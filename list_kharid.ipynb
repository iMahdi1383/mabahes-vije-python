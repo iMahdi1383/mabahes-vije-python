{
 "cells": [
  {
   "cell_type": "markdown",
   "metadata": {},
   "source": [
    "## متد نمایش منوی برنامه به کاربر"
   ]
  },
  {
   "cell_type": "code",
   "execution_count": 10,
   "metadata": {},
   "outputs": [],
   "source": [
    "def display_menu():\n",
    "    print(\"\")\n",
    "    print(\"منوی لیست خرید:\")\n",
    "    print(\"1. افزودن مورد به لیست خرید\")\n",
    "    print(\"2. حذف مورد از لیست خرید\")\n",
    "    print(\"3. نمایش لیست خرید\")\n",
    "    print(\"4. مرتب‌سازی لیست خرید\")\n",
    "    print(\"5. جستجوی مورد در لیست خرید\")\n",
    "    print(\"6. شمارش موارد در لیست خرید\")\n",
    "    print(\"7. خروج\")\n",
    "    print(\"\")"
   ]
  },
  {
   "cell_type": "markdown",
   "metadata": {},
   "source": [
    "## متدهای لیست"
   ]
  },
  {
   "cell_type": "markdown",
   "metadata": {},
   "source": [
    "1. افزودن آیتم"
   ]
  },
  {
   "cell_type": "code",
   "execution_count": 11,
   "metadata": {},
   "outputs": [],
   "source": [
    "def add_item(shopping_list):\n",
    "    item = input(\"موردی که می‌خواهید اضافه کنید را وارد کنید: \").strip()\n",
    "    if item:\n",
    "        shopping_list.append(item)\n",
    "        print(f\"'{item}' به لیست خرید اضافه شد.\")"
   ]
  },
  {
   "cell_type": "markdown",
   "metadata": {},
   "source": [
    "2. حذف آیتم "
   ]
  },
  {
   "cell_type": "code",
   "execution_count": 12,
   "metadata": {},
   "outputs": [],
   "source": [
    "def remove_item(shopping_list):\n",
    "    item = input(\"موردی که می‌خواهید حذف کنید را وارد کنید: \").strip()\n",
    "    if item in shopping_list:\n",
    "        shopping_list.remove(item)\n",
    "        print(f\"'{item}' از لیست خرید حذف شد.\")\n",
    "    else:\n",
    "        print(f\"'{item}' در لیست خرید یافت نشد.\")"
   ]
  },
  {
   "cell_type": "markdown",
   "metadata": {},
   "source": [
    "3. نمایش همه آیتم ها"
   ]
  },
  {
   "cell_type": "code",
   "execution_count": 13,
   "metadata": {},
   "outputs": [],
   "source": [
    "def display_list(shopping_list):\n",
    "    if shopping_list:\n",
    "        print(\"\\nلیست خرید:\")\n",
    "        for index, item in enumerate(shopping_list, start=1):\n",
    "            print(f\"{index}. {item}\")\n",
    "    else:\n",
    "        print(\"لیست خرید شما خالی است.\")"
   ]
  },
  {
   "cell_type": "markdown",
   "metadata": {},
   "source": [
    "4. مرتب سازی لیست"
   ]
  },
  {
   "cell_type": "code",
   "execution_count": 14,
   "metadata": {},
   "outputs": [],
   "source": [
    "def sort_list(shopping_list):\n",
    "    shopping_list.sort()\n",
    "    print(\"لیست خرید مرتب شد.\")"
   ]
  },
  {
   "cell_type": "markdown",
   "metadata": {},
   "source": [
    "5. جستجو"
   ]
  },
  {
   "cell_type": "code",
   "execution_count": 15,
   "metadata": {},
   "outputs": [],
   "source": [
    "\n",
    "def search_item(shopping_list):\n",
    "    item = input(\"موردی که می‌خواهید جستجو کنید را وارد کنید: \").strip()\n",
    "    if item in shopping_list:\n",
    "        index = shopping_list.index(item)\n",
    "        print(f\"'{item}' در لیست خرید یافت شد. موقعیت: {index + 1}\")\n",
    "    else:\n",
    "        print(f\"'{item}' در لیست خرید یافت نشد.\")"
   ]
  },
  {
   "cell_type": "markdown",
   "metadata": {},
   "source": [
    "6. شمارش آیتم ها"
   ]
  },
  {
   "cell_type": "code",
   "execution_count": 16,
   "metadata": {},
   "outputs": [],
   "source": [
    "def count_items(shopping_list):\n",
    "    count = len(shopping_list)\n",
    "    print(f\"تعداد موارد در لیست خرید: {count}\")"
   ]
  },
  {
   "cell_type": "markdown",
   "metadata": {},
   "source": [
    "## متد بررسی انتخاب کاربر (متد اصلی اجرای برنامه)"
   ]
  },
  {
   "cell_type": "code",
   "execution_count": 17,
   "metadata": {},
   "outputs": [],
   "source": [
    "def main():\n",
    "    shopping_list = []\n",
    "    display_menu()\n",
    "    while True:\n",
    "        choice = input(\"انتخاب خود را وارد کنید (1-7): \").strip()\n",
    "        if choice.isdigit():\n",
    "            choice = int(choice)\n",
    "            if choice == 1: # افزودن\n",
    "                add_item(shopping_list)\n",
    "            elif choice == 2: # حذف\n",
    "                remove_item(shopping_list)\n",
    "            elif choice == 3: # نمایش\n",
    "                display_list(shopping_list)\n",
    "            elif choice == 4: # مرتب سازی\n",
    "                sort_list(shopping_list)\n",
    "            elif choice == 5: # جستجو\n",
    "                search_item(shopping_list)\n",
    "            elif choice == 6: # شمارش\n",
    "                count_items(shopping_list)\n",
    "            elif choice == 7: # خروج\n",
    "                print(\"خروج از برنامه. روز خوبی داشته باشید!\")\n",
    "                break\n",
    "            else:\n",
    "                print(\"انتخاب نامعتبر. لطفاً عددی بین 1 تا 7 وارد کنید.\")\n",
    "        else:\n",
    "            print(\"لطفاً یک عدد صحیح وارد کنید.\")"
   ]
  },
  {
   "cell_type": "markdown",
   "metadata": {},
   "source": [
    "### شروع برنامه"
   ]
  },
  {
   "cell_type": "code",
   "execution_count": 18,
   "metadata": {},
   "outputs": [
    {
     "name": "stdout",
     "output_type": "stream",
     "text": [
      "\n",
      "منوی لیست خرید:\n",
      "1. افزودن مورد به لیست خرید\n",
      "2. حذف مورد از لیست خرید\n",
      "3. نمایش لیست خرید\n",
      "4. مرتب‌سازی لیست خرید\n",
      "5. جستجوی مورد در لیست خرید\n",
      "6. شمارش موارد در لیست خرید\n",
      "7. خروج\n",
      "\n",
      "خروج از برنامه. روز خوبی داشته باشید!\n"
     ]
    }
   ],
   "source": [
    "main()"
   ]
  },
  {
   "cell_type": "markdown",
   "metadata": {},
   "source": [
    "## منابع کمکی\n",
    "\n",
    "- [OpenAI - ChatGPT](https://chatgpt.com/ \"چت جی پی تی\")"
   ]
  }
 ],
 "metadata": {
  "kernelspec": {
   "display_name": "Python 3",
   "language": "python",
   "name": "python3"
  },
  "language_info": {
   "codemirror_mode": {
    "name": "ipython",
    "version": 3
   },
   "file_extension": ".py",
   "mimetype": "text/x-python",
   "name": "python",
   "nbconvert_exporter": "python",
   "pygments_lexer": "ipython3",
   "version": "3.12.3"
  }
 },
 "nbformat": 4,
 "nbformat_minor": 2
}
