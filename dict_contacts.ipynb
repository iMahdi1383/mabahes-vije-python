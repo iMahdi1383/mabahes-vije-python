{
 "cells": [
  {
   "cell_type": "markdown",
   "metadata": {},
   "source": [
    "## متد نمایش منوی برنامه به کاربر"
   ]
  },
  {
   "cell_type": "code",
   "execution_count": 9,
   "metadata": {},
   "outputs": [],
   "source": [
    "def display_menu():\n",
    "    print(\"\")\n",
    "    print(\"منوی دفترچه تلفن:\")\n",
    "    print(\"1. افزودن مخاطب جدید\")\n",
    "    print(\"2. جستجوی مخاطب\")\n",
    "    print(\"3. حذف مخاطب\")\n",
    "    print(\"4. نمایش همه مخاطبین\")\n",
    "    print(\"5. بروزرسانی شماره تلفن مخاطب\")\n",
    "    print(\"6. خروج\")\n",
    "    print(\"\")"
   ]
  },
  {
   "cell_type": "markdown",
   "metadata": {},
   "source": [
    "## متدهای دیکشنری"
   ]
  },
  {
   "cell_type": "markdown",
   "metadata": {},
   "source": [
    "1. افزودن مخاطب"
   ]
  },
  {
   "cell_type": "code",
   "execution_count": 10,
   "metadata": {},
   "outputs": [],
   "source": [
    "def add_contact(phonebook):\n",
    "    name = input(\"نام مخاطب را وارد کنید: \").strip()\n",
    "    phone = input(\"شماره تلفن را وارد کنید: \").strip()\n",
    "    if name and phone:\n",
    "        if phone.isdigit():\n",
    "            phonebook[name] = phone\n",
    "            print(f\"مخاطب '{name}' با شماره '{phone}' اضافه شد.\")\n",
    "        else:\n",
    "            print(\"شماره تلفن فقط میتواند مقداری عددی باشد.\")\n",
    "    else:\n",
    "        print(\"نام و شماره تلفن نباید خالی باشند.\")"
   ]
  },
  {
   "cell_type": "markdown",
   "metadata": {},
   "source": [
    "2. جستجوی مخاطب"
   ]
  },
  {
   "cell_type": "code",
   "execution_count": 11,
   "metadata": {},
   "outputs": [],
   "source": [
    "def search_contact(phonebook):\n",
    "    name = input(\"نام مخاطب مورد نظر را وارد کنید: \").strip()\n",
    "    phone = phonebook.get(name)\n",
    "    if phone:\n",
    "        print(f\"شماره تلفن '{name}': {phone}\")\n",
    "    else:\n",
    "        print(f\"مخاطب '{name}' یافت نشد.\")"
   ]
  },
  {
   "cell_type": "markdown",
   "metadata": {},
   "source": [
    "3. حذف مخاطب"
   ]
  },
  {
   "cell_type": "code",
   "execution_count": 12,
   "metadata": {},
   "outputs": [],
   "source": [
    "def delete_contact(phonebook):\n",
    "    name = input(\"نام مخاطب مورد نظر برای حذف را وارد کنید: \").strip()\n",
    "    phone = phonebook.pop(name, None)\n",
    "    if phone:\n",
    "        print(f\"مخاطب '{name}' با شماره '{phone}' حذف شد.\")\n",
    "    else:\n",
    "        print(f\"مخاطب '{name}' یافت نشد.\")"
   ]
  },
  {
   "cell_type": "markdown",
   "metadata": {},
   "source": [
    "4. نمایش همه مخاطبین"
   ]
  },
  {
   "cell_type": "code",
   "execution_count": 13,
   "metadata": {},
   "outputs": [],
   "source": [
    "def display_all_contacts(phonebook):\n",
    "    if phonebook:\n",
    "        print(\"\\nلیست همه مخاطبین:\")\n",
    "        for name, phone in phonebook.items():\n",
    "            print(f\"{name}: {phone}\")\n",
    "    else:\n",
    "        print(\"دفترچه تلفن خالی است.\")"
   ]
  },
  {
   "cell_type": "markdown",
   "metadata": {},
   "source": [
    "5. ویرایش شماره تلفن"
   ]
  },
  {
   "cell_type": "code",
   "execution_count": 14,
   "metadata": {},
   "outputs": [],
   "source": [
    "def update_contact(phonebook):\n",
    "    name = input(\"نام مخاطب مورد نظر برای بروزرسانی را وارد کنید: \").strip()\n",
    "    if name in phonebook:\n",
    "        phone = input(\"شماره تلفن جدید را وارد کنید: \").strip()\n",
    "        phonebook.update({name: phone})\n",
    "        print(f\"شماره تلفن '{name}' به '{phone}' بروزرسانی شد.\")\n",
    "    else:\n",
    "        print(f\"مخاطب '{name}' یافت نشد.\")"
   ]
  },
  {
   "cell_type": "markdown",
   "metadata": {},
   "source": [
    "## متد بررسی انتخاب کاربر (متد اصلی اجرای برنامه)"
   ]
  },
  {
   "cell_type": "code",
   "execution_count": 15,
   "metadata": {},
   "outputs": [],
   "source": [
    "def main():\n",
    "    phonebook = {}\n",
    "    while True:\n",
    "        display_menu()\n",
    "        choice = input(\"انتخاب خود را وارد کنید (1-6): \").strip()\n",
    "        if choice.isdigit():\n",
    "            choice = int(choice)\n",
    "            if choice == 1: # افزودن\n",
    "                add_contact(phonebook)\n",
    "            elif choice == 2: # جستجو\n",
    "                search_contact(phonebook)\n",
    "            elif choice == 3: # حذف\n",
    "                delete_contact(phonebook)\n",
    "            elif choice == 4: # نمایش\n",
    "                display_all_contacts(phonebook)\n",
    "            elif choice == 5: # ویرایش\n",
    "                update_contact(phonebook)\n",
    "            elif choice == 6: #خروج\n",
    "                print(\"خروج از برنامه. روز خوبی داشته باشید!\")\n",
    "                break\n",
    "            else:\n",
    "                print(\"انتخاب نامعتبر. لطفاً عددی بین 1 تا 6 وارد کنید.\")\n",
    "        else:\n",
    "            print(\"لطفاً یک عدد صحیح وارد کنید.\")\n"
   ]
  },
  {
   "cell_type": "markdown",
   "metadata": {},
   "source": [
    "### شروع برنامه"
   ]
  },
  {
   "cell_type": "code",
   "execution_count": 16,
   "metadata": {},
   "outputs": [
    {
     "name": "stdout",
     "output_type": "stream",
     "text": [
      "\n",
      "منوی دفترچه تلفن:\n",
      "1. افزودن مخاطب جدید\n",
      "2. جستجوی مخاطب\n",
      "3. حذف مخاطب\n",
      "4. نمایش همه مخاطبین\n",
      "5. بروزرسانی شماره تلفن مخاطب\n",
      "6. خروج\n",
      "\n",
      "خروج از برنامه. روز خوبی داشته باشید!\n"
     ]
    }
   ],
   "source": [
    "main()"
   ]
  },
  {
   "cell_type": "markdown",
   "metadata": {},
   "source": [
    "## منابع کمکی\n",
    "\n",
    "- [OpenAI - ChatGPT](https://chatgpt.com/ \"چت جی پی تی\")\n",
    "- [W3Schools](https://www.w3schools.com/python/ \"دابلیو تری اسکولز\")"
   ]
  }
 ],
 "metadata": {
  "kernelspec": {
   "display_name": "Python 3",
   "language": "python",
   "name": "python3"
  },
  "language_info": {
   "codemirror_mode": {
    "name": "ipython",
    "version": 3
   },
   "file_extension": ".py",
   "mimetype": "text/x-python",
   "name": "python",
   "nbconvert_exporter": "python",
   "pygments_lexer": "ipython3",
   "version": "3.12.3"
  }
 },
 "nbformat": 4,
 "nbformat_minor": 2
}
